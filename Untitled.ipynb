{
 "cells": [
  {
   "cell_type": "code",
   "execution_count": 2,
   "metadata": {},
   "outputs": [],
   "source": [
    "#conda install -c conda-forge tensorflow \n",
    "#pip install keras\n",
    "import pandas as pd\n",
    "import numpy as np\n",
    "import matplotlib.pyplot as plt\n",
    "import seaborn as sns\n",
    "import os\n",
    "import glob\n",
    "\n",
    "from keras.preprocessing import image\n",
    "from keras.preprocessing.image import ImageDataGenerator ,img_to_array, load_img\n",
    "\n",
    "from tensorflow.keras.callbacks import EarlyStopping\n",
    "\n",
    "from keras.models import Sequential\n",
    "from keras.layers import Conv2D, MaxPooling2D,AveragePooling2D, Flatten, Dense, Dropout, Activation , Concatenate, Input , BatchNormalization\n",
    "\n",
    "from keras.optimizers import SGD\n",
    "from keras.utils import plot_model\n",
    "from keras import Model\n",
    "\n",
    "from sklearn.metrics import confusion_matrix"
   ]
  },
  {
   "cell_type": "code",
   "execution_count": 3,
   "metadata": {},
   "outputs": [],
   "source": [
    "train_dir=\"archive/Training\"\n",
    "val_dir=\"archive/Validation\"\n",
    "\n",
    "train_dir_male = train_dir + '/male'\n",
    "train_dir_female = train_dir + '/female'\n",
    "\n",
    "val_dir_male  = val_dir + '/male'\n",
    "val_dir_female  = val_dir + '/female'"
   ]
  },
  {
   "cell_type": "code",
   "execution_count": 4,
   "metadata": {},
   "outputs": [
    {
     "name": "stdout",
     "output_type": "stream",
     "text": [
      "number of male training images -  23766\n",
      "number of female training images -  23243\n",
      "----------------------------------------------------------------------\n",
      "number of male validation  images -  5808\n",
      "number of female validation  images -  5841\n"
     ]
    }
   ],
   "source": [
    "print('number of male training images - ',len(os.listdir(train_dir_male)))\n",
    "print('number of female training images - ',len(os.listdir(train_dir_female)))\n",
    "print('----------------------------------------------------------------------')\n",
    "print('number of male validation  images - ',len(os.listdir(val_dir_male)))\n",
    "print('number of female validation  images - ',len(os.listdir(val_dir_female)))\n"
   ]
  },
  {
   "cell_type": "code",
   "execution_count": 5,
   "metadata": {},
   "outputs": [],
   "source": [
    "data_generator = ImageDataGenerator(rescale= 1./255 , validation_split=0.2)"
   ]
  },
  {
   "cell_type": "code",
   "execution_count": 6,
   "metadata": {},
   "outputs": [
    {
     "name": "stdout",
     "output_type": "stream",
     "text": [
      "Found 37608 images belonging to 2 classes.\n",
      "Found 9401 images belonging to 2 classes.\n",
      "Found 11649 images belonging to 2 classes.\n",
      "Found 11649 images belonging to 2 classes.\n"
     ]
    }
   ],
   "source": [
    "batch_size = 64\n",
    "\n",
    "training_data = data_generator.flow_from_directory(directory = train_dir,\n",
    "                                                   target_size = (64, 64),\n",
    "                                                   class_mode='binary',\n",
    "                                                   color_mode= \"rgb\",\n",
    "                                                   subset='training',\n",
    "                                                   batch_size = batch_size)\n",
    "\n",
    "testing_data = data_generator.flow_from_directory(directory = train_dir,\n",
    "                                                  target_size = (64, 64),\n",
    "                                                  class_mode='binary',\n",
    "                                                  color_mode= \"rgb\",\n",
    "                                                  subset='validation',\n",
    "                                                  batch_size = batch_size)\n",
    "\n",
    "validation_data = data_generator.flow_from_directory(directory = val_dir,\n",
    "                                                  target_size = (64, 64),\n",
    "                                                  class_mode= None,\n",
    "                                                  color_mode= \"rgb\",\n",
    "                                                  batch_size = batch_size)\n",
    "\n",
    "\n",
    "evaluation_generator = data_generator.flow_from_directory(directory = val_dir,\n",
    "                                                  target_size = (64, 64),\n",
    "                                                  class_mode= 'binary',\n",
    "                                                  color_mode= \"rgb\",\n",
    "                                                  batch_size = batch_size)"
   ]
  },
  {
   "cell_type": "code",
   "execution_count": 7,
   "metadata": {},
   "outputs": [
    {
     "data": {
      "text/plain": [
       "{0, 1}"
      ]
     },
     "execution_count": 7,
     "metadata": {},
     "output_type": "execute_result"
    }
   ],
   "source": [
    "set(training_data.classes)\n"
   ]
  },
  {
   "cell_type": "code",
   "execution_count": 8,
   "metadata": {},
   "outputs": [
    {
     "name": "stdout",
     "output_type": "stream",
     "text": [
      "{'female': 0, 'male': 1}\n"
     ]
    }
   ],
   "source": [
    "labels = (testing_data.class_indices)\n",
    "print (labels)"
   ]
  },
  {
   "cell_type": "code",
   "execution_count": 9,
   "metadata": {},
   "outputs": [],
   "source": [
    "es = EarlyStopping(monitor='val_loss', mode='auto', verbose=2, patience=8)"
   ]
  },
  {
   "cell_type": "code",
   "execution_count": 10,
   "metadata": {},
   "outputs": [],
   "source": [
    "input_model = Input(training_data.image_shape)\n",
    "\n",
    "\n",
    "model1 = Conv2D(16,(7,7), activation='relu')(input_model)\n",
    "model1 = Conv2D(32,(6,6), activation='relu', padding='same')(model1)\n",
    "model1 = BatchNormalization()(model1)\n",
    "model1 = MaxPooling2D((2,2))(model1)\n",
    "model1 = Conv2D(32,(6,6), activation='relu' ,padding='same')(model1)\n",
    "model1 = Conv2D(64,(5,5), activation='relu' ,padding='same')(model1)\n",
    "model1 = BatchNormalization()(model1)\n",
    "model1 = AveragePooling2D((2, 2))(model1)\n",
    "model1 = Conv2D(64,(5,5), activation='relu' ,padding='same')(model1)\n",
    "model1 = Conv2D(128,(5,5), activation='relu' ,padding='same')(model1)\n",
    "model1 = BatchNormalization()(model1)\n",
    "model1 = AveragePooling2D((2, 2))(model1)\n",
    "model1 = Conv2D(256,(4,4), activation='relu' ,padding='same')(model1)\n",
    "model1 = Conv2D(256,(4,4), activation='relu' ,padding='same')(model1)\n",
    "model1 = BatchNormalization()(model1)\n",
    "model1 = MaxPooling2D((2, 2))(model1)\n",
    "model1 = Conv2D(512,(3,3), activation='relu' ,padding='same')(model1)\n",
    "model1 = Conv2D(512,(3,3), activation='relu' ,padding='valid')(model1)\n",
    "model1 = BatchNormalization()(model1)\n",
    "model1 = Flatten()(model1)\n",
    "#########################################################                          \n",
    "model2 = Conv2D(16,(4,4), activation='relu')(input_model)  \n",
    "model2 = Conv2D(16,(4,4), activation='relu', padding='same')(model2)\n",
    "model2 = BatchNormalization()(model2)\n",
    "model2 = MaxPooling2D((3, 3))(model2)\n",
    "model2 = Conv2D(32,(3,3), activation='relu', padding='same')(model2) \n",
    "model2 = Conv2D(32,(3,3), activation='relu', padding='same')(model2)\n",
    "model2 = BatchNormalization()(model2)\n",
    "model2 = AveragePooling2D((2, 2))(model2)\n",
    "model2 = Conv2D(32,(3,3), activation='relu', padding='same')(model2)\n",
    "model2 = Conv2D(64,(2,2), activation='relu' ,padding='same')(model2)\n",
    "model2 = BatchNormalization()(model2)\n",
    "model2 = AveragePooling2D((2, 2))(model2)\n",
    "model2 = Conv2D(64,(2,2), activation='relu' ,padding='same')(model2)\n",
    "model2 = Conv2D(64,(2,2), activation='relu' ,padding='same')(model2)\n",
    "model2 = BatchNormalization()(model2)\n",
    "model2 = AveragePooling2D((2, 2))(model2)\n",
    "model2 = Conv2D(128,(1,1), activation='relu' ,padding='same')(model2)\n",
    "model2 = Conv2D(128,(1,1), activation='relu' ,padding='same')(model2)\n",
    "model2 = BatchNormalization()(model2)\n",
    "model2 = AveragePooling2D((2, 2))(model2)\n",
    "model2 = Conv2D(256,(1,1), activation='relu' ,padding='same')(model2)\n",
    "model2 = Conv2D(512,(1,1), activation='relu' ,padding='valid')(model2)\n",
    "model2 = BatchNormalization()(model2)\n",
    "model2 = Flatten()(model2)\n",
    "########################################################\n",
    "merged = Concatenate()([model1, model2])\n",
    "merged = Dense(units = 512, activation = 'relu')(merged)\n",
    "merged = BatchNormalization()(merged)\n",
    "merged = Dropout(rate = 0.2)(merged)\n",
    "merged = Dense(units = 64, activation = 'relu')(merged)\n",
    "merged = Dense(units = 32, activation = 'relu')(merged)\n",
    "merged = Dense(units = 16, activation = 'relu')(merged)\n",
    "merged = Dense(units = 8, activation = 'relu')(merged)\n",
    "merged = Dense(units = 4, activation = 'relu')(merged)\n",
    "merged = Dense(units = 2, activation = 'relu')(merged)\n",
    "output = Dense(activation = 'sigmoid', units = 1)(merged)\n",
    "\n",
    "model = Model(inputs= [input_model], outputs=[output])\n"
   ]
  },
  {
   "cell_type": "code",
   "execution_count": 12,
   "metadata": {},
   "outputs": [],
   "source": [
    "\n",
    "sgd = SGD(lr=0.01, momentum=0.9)\n",
    "model.compile(optimizer=sgd, loss='binary_crossentropy', metrics=['accuracy'])\n",
    "\n"
   ]
  },
  {
   "cell_type": "code",
   "execution_count": 13,
   "metadata": {},
   "outputs": [
    {
     "name": "stdout",
     "output_type": "stream",
     "text": [
      "Model: \"functional_1\"\n",
      "__________________________________________________________________________________________________\n",
      "Layer (type)                    Output Shape         Param #     Connected to                     \n",
      "==================================================================================================\n",
      "input_1 (InputLayer)            [(None, 64, 64, 3)]  0                                            \n",
      "__________________________________________________________________________________________________\n",
      "conv2d_10 (Conv2D)              (None, 61, 61, 16)   784         input_1[0][0]                    \n",
      "__________________________________________________________________________________________________\n",
      "conv2d_11 (Conv2D)              (None, 61, 61, 16)   4112        conv2d_10[0][0]                  \n",
      "__________________________________________________________________________________________________\n",
      "batch_normalization_5 (BatchNor (None, 61, 61, 16)   64          conv2d_11[0][0]                  \n",
      "__________________________________________________________________________________________________\n",
      "max_pooling2d_2 (MaxPooling2D)  (None, 20, 20, 16)   0           batch_normalization_5[0][0]      \n",
      "__________________________________________________________________________________________________\n",
      "conv2d (Conv2D)                 (None, 58, 58, 16)   2368        input_1[0][0]                    \n",
      "__________________________________________________________________________________________________\n",
      "conv2d_12 (Conv2D)              (None, 20, 20, 32)   4640        max_pooling2d_2[0][0]            \n",
      "__________________________________________________________________________________________________\n",
      "conv2d_1 (Conv2D)               (None, 58, 58, 32)   18464       conv2d[0][0]                     \n",
      "__________________________________________________________________________________________________\n",
      "conv2d_13 (Conv2D)              (None, 20, 20, 32)   9248        conv2d_12[0][0]                  \n",
      "__________________________________________________________________________________________________\n",
      "batch_normalization (BatchNorma (None, 58, 58, 32)   128         conv2d_1[0][0]                   \n",
      "__________________________________________________________________________________________________\n",
      "batch_normalization_6 (BatchNor (None, 20, 20, 32)   128         conv2d_13[0][0]                  \n",
      "__________________________________________________________________________________________________\n",
      "max_pooling2d (MaxPooling2D)    (None, 29, 29, 32)   0           batch_normalization[0][0]        \n",
      "__________________________________________________________________________________________________\n",
      "average_pooling2d_2 (AveragePoo (None, 10, 10, 32)   0           batch_normalization_6[0][0]      \n",
      "__________________________________________________________________________________________________\n",
      "conv2d_2 (Conv2D)               (None, 29, 29, 32)   36896       max_pooling2d[0][0]              \n",
      "__________________________________________________________________________________________________\n",
      "conv2d_14 (Conv2D)              (None, 10, 10, 32)   9248        average_pooling2d_2[0][0]        \n",
      "__________________________________________________________________________________________________\n",
      "conv2d_3 (Conv2D)               (None, 29, 29, 64)   51264       conv2d_2[0][0]                   \n",
      "__________________________________________________________________________________________________\n",
      "conv2d_15 (Conv2D)              (None, 10, 10, 64)   8256        conv2d_14[0][0]                  \n",
      "__________________________________________________________________________________________________\n",
      "batch_normalization_1 (BatchNor (None, 29, 29, 64)   256         conv2d_3[0][0]                   \n",
      "__________________________________________________________________________________________________\n",
      "batch_normalization_7 (BatchNor (None, 10, 10, 64)   256         conv2d_15[0][0]                  \n",
      "__________________________________________________________________________________________________\n",
      "average_pooling2d (AveragePooli (None, 14, 14, 64)   0           batch_normalization_1[0][0]      \n",
      "__________________________________________________________________________________________________\n",
      "average_pooling2d_3 (AveragePoo (None, 5, 5, 64)     0           batch_normalization_7[0][0]      \n",
      "__________________________________________________________________________________________________\n",
      "conv2d_4 (Conv2D)               (None, 14, 14, 64)   102464      average_pooling2d[0][0]          \n",
      "__________________________________________________________________________________________________\n",
      "conv2d_16 (Conv2D)              (None, 5, 5, 64)     16448       average_pooling2d_3[0][0]        \n",
      "__________________________________________________________________________________________________\n",
      "conv2d_5 (Conv2D)               (None, 14, 14, 128)  204928      conv2d_4[0][0]                   \n",
      "__________________________________________________________________________________________________\n",
      "conv2d_17 (Conv2D)              (None, 5, 5, 64)     16448       conv2d_16[0][0]                  \n",
      "__________________________________________________________________________________________________\n",
      "batch_normalization_2 (BatchNor (None, 14, 14, 128)  512         conv2d_5[0][0]                   \n",
      "__________________________________________________________________________________________________\n",
      "batch_normalization_8 (BatchNor (None, 5, 5, 64)     256         conv2d_17[0][0]                  \n",
      "__________________________________________________________________________________________________\n",
      "average_pooling2d_1 (AveragePoo (None, 7, 7, 128)    0           batch_normalization_2[0][0]      \n",
      "__________________________________________________________________________________________________\n",
      "average_pooling2d_4 (AveragePoo (None, 2, 2, 64)     0           batch_normalization_8[0][0]      \n",
      "__________________________________________________________________________________________________\n",
      "conv2d_6 (Conv2D)               (None, 7, 7, 256)    524544      average_pooling2d_1[0][0]        \n",
      "__________________________________________________________________________________________________\n",
      "conv2d_18 (Conv2D)              (None, 2, 2, 128)    8320        average_pooling2d_4[0][0]        \n",
      "__________________________________________________________________________________________________\n",
      "conv2d_7 (Conv2D)               (None, 7, 7, 256)    1048832     conv2d_6[0][0]                   \n",
      "__________________________________________________________________________________________________\n",
      "conv2d_19 (Conv2D)              (None, 2, 2, 128)    16512       conv2d_18[0][0]                  \n",
      "__________________________________________________________________________________________________\n",
      "batch_normalization_3 (BatchNor (None, 7, 7, 256)    1024        conv2d_7[0][0]                   \n",
      "__________________________________________________________________________________________________\n",
      "batch_normalization_9 (BatchNor (None, 2, 2, 128)    512         conv2d_19[0][0]                  \n",
      "__________________________________________________________________________________________________\n",
      "max_pooling2d_1 (MaxPooling2D)  (None, 3, 3, 256)    0           batch_normalization_3[0][0]      \n",
      "__________________________________________________________________________________________________\n",
      "average_pooling2d_5 (AveragePoo (None, 1, 1, 128)    0           batch_normalization_9[0][0]      \n",
      "__________________________________________________________________________________________________\n",
      "conv2d_8 (Conv2D)               (None, 3, 3, 512)    1180160     max_pooling2d_1[0][0]            \n",
      "__________________________________________________________________________________________________\n",
      "conv2d_20 (Conv2D)              (None, 1, 1, 256)    33024       average_pooling2d_5[0][0]        \n",
      "__________________________________________________________________________________________________\n",
      "conv2d_9 (Conv2D)               (None, 1, 1, 512)    2359808     conv2d_8[0][0]                   \n",
      "__________________________________________________________________________________________________\n",
      "conv2d_21 (Conv2D)              (None, 1, 1, 512)    131584      conv2d_20[0][0]                  \n",
      "__________________________________________________________________________________________________\n",
      "batch_normalization_4 (BatchNor (None, 1, 1, 512)    2048        conv2d_9[0][0]                   \n",
      "__________________________________________________________________________________________________\n",
      "batch_normalization_10 (BatchNo (None, 1, 1, 512)    2048        conv2d_21[0][0]                  \n",
      "__________________________________________________________________________________________________\n",
      "flatten (Flatten)               (None, 512)          0           batch_normalization_4[0][0]      \n",
      "__________________________________________________________________________________________________\n",
      "flatten_1 (Flatten)             (None, 512)          0           batch_normalization_10[0][0]     \n",
      "__________________________________________________________________________________________________\n",
      "concatenate (Concatenate)       (None, 1024)         0           flatten[0][0]                    \n",
      "                                                                 flatten_1[0][0]                  \n",
      "__________________________________________________________________________________________________\n",
      "dense (Dense)                   (None, 512)          524800      concatenate[0][0]                \n",
      "__________________________________________________________________________________________________\n",
      "batch_normalization_11 (BatchNo (None, 512)          2048        dense[0][0]                      \n",
      "__________________________________________________________________________________________________\n",
      "dropout (Dropout)               (None, 512)          0           batch_normalization_11[0][0]     \n",
      "__________________________________________________________________________________________________\n",
      "dense_1 (Dense)                 (None, 64)           32832       dropout[0][0]                    \n",
      "__________________________________________________________________________________________________\n",
      "dense_2 (Dense)                 (None, 32)           2080        dense_1[0][0]                    \n",
      "__________________________________________________________________________________________________\n",
      "dense_3 (Dense)                 (None, 16)           528         dense_2[0][0]                    \n",
      "__________________________________________________________________________________________________\n",
      "dense_4 (Dense)                 (None, 8)            136         dense_3[0][0]                    \n",
      "__________________________________________________________________________________________________\n",
      "dense_5 (Dense)                 (None, 4)            36          dense_4[0][0]                    \n",
      "__________________________________________________________________________________________________\n",
      "dense_6 (Dense)                 (None, 2)            10          dense_5[0][0]                    \n",
      "__________________________________________________________________________________________________\n",
      "dense_7 (Dense)                 (None, 1)            3           dense_6[0][0]                    \n",
      "==================================================================================================\n",
      "Total params: 6,358,057\n",
      "Trainable params: 6,353,417\n",
      "Non-trainable params: 4,640\n",
      "__________________________________________________________________________________________________\n"
     ]
    }
   ],
   "source": [
    "model.summary()"
   ]
  },
  {
   "cell_type": "code",
   "execution_count": null,
   "metadata": {},
   "outputs": [],
   "source": [
    "history =  model.fit_generator(generator = training_data,\n",
    "                               epochs = 35,\n",
    "                               #steps_per_epoch = int(len(training_data)/batch_size),\n",
    "                               validation_data = testing_data ,\n",
    "                               #validation_steps = int(len(testing_data)/batch_size),\n",
    "                               callbacks=[es],\n",
    "                               verbose=1)"
   ]
  },
  {
   "cell_type": "code",
   "execution_count": null,
   "metadata": {},
   "outputs": [],
   "source": [
    "model.save_weights(\"weights.h5\")"
   ]
  },
  {
   "cell_type": "code",
   "execution_count": null,
   "metadata": {},
   "outputs": [],
   "source": [
    "val_loss = history.history['val_loss']\n",
    "loss = history.history['loss']\n",
    "\n",
    "plt.plot(val_loss)\n",
    "plt.plot(loss)\n",
    "plt.xlabel('Epochs')\n",
    "plt.ylabel('Loss')\n",
    "plt.legend(['Val error','Train error'], loc='upper right')\n",
    "plt.savefig('plot_error.png')\n",
    "plt.show()\n",
    "\n"
   ]
  },
  {
   "cell_type": "code",
   "execution_count": null,
   "metadata": {},
   "outputs": [],
   "source": [
    "val_accuracy = history.history['val_accuracy']\n",
    "accuracy = history.history['accuracy']\n",
    "\n",
    "plt.plot(val_accuracy)\n",
    "plt.plot(accuracy)\n",
    "plt.xlabel('Epochs')\n",
    "plt.ylabel('accuracy')\n",
    "plt.legend(['Val accuracy','Train accuracy'], loc='lower right')\n",
    "plt.savefig( 'plot_accuracy.png')\n",
    "plt.show()"
   ]
  },
  {
   "cell_type": "code",
   "execution_count": null,
   "metadata": {},
   "outputs": [],
   "source": [
    "scores = model.evaluate_generator(evaluation_generator)\n",
    "print(\"\\n%s: %.2f%%\" % (model.metrics_names[1], scores[1]*100))"
   ]
  },
  {
   "cell_type": "code",
   "execution_count": null,
   "metadata": {},
   "outputs": [],
   "source": [
    "pred = model.predict_generator(validation_data)\n",
    "print(pred.shape)"
   ]
  },
  {
   "cell_type": "code",
   "execution_count": null,
   "metadata": {},
   "outputs": [],
   "source": [
    "pred = pred.reshape(1,pred.shape[0])\n",
    "predicted_class_indices= np.round_(pred)\n",
    "labels = (validation_data.class_indices)\n",
    "print(predicted_class_indices)\n",
    "print (labels)"
   ]
  },
  {
   "cell_type": "code",
   "execution_count": null,
   "metadata": {},
   "outputs": [],
   "source": [
    "true_labels = []\n",
    "perdict_labels = predicted_class_indices[0]\n",
    "\n",
    "for i in range(len(glob.glob(val_dir_female +'/*'))):\n",
    "    true_labels.append(0)\n",
    "for i in range(len(glob.glob(val_dir_male +'/*'))):\n",
    "    true_labels.append(1)"
   ]
  },
  {
   "cell_type": "code",
   "execution_count": null,
   "metadata": {},
   "outputs": [],
   "source": [
    "cm = confusion_matrix(true_labels, perdict_labels)\n",
    "sns.heatmap(cm, fmt='4',annot=True).set(ylabel=\"True Label\", xlabel=\"Predicted Label\")\n",
    "plt.show()\n",
    "plt.savefig('confusion_matrix.jpg')"
   ]
  },
  {
   "cell_type": "code",
   "execution_count": null,
   "metadata": {},
   "outputs": [],
   "source": [
    "sns.heatmap(cm/np.sum(cm), annot=True, \n",
    "            fmt='.2%').set(ylabel=\"True Label\", xlabel=\"Predicted Label\")\n",
    "plt.show()\n",
    "plt.savefig('confusion_matrix_percentage.jpg')"
   ]
  },
  {
   "cell_type": "code",
   "execution_count": null,
   "metadata": {},
   "outputs": [],
   "source": [
    "paths = glob.glob(val_dir_female +'/*')\n",
    "for i in range(0,10):\n",
    "    test_image = image.load_img(paths[i], target_size = (64, 64))\n",
    "    plt.imshow(test_image)\n",
    "    if predicted_class_indices[0][i] == 0:\n",
    "        pred_label = 'female'\n",
    "    else:\n",
    "        pred_label = 'male'\n",
    "    \n",
    "    print('True Label female - Perdict Label : {}'.format(pred_label))\n",
    "    labels = (training_data.class_indices)\n",
    "    print (labels)\n",
    "    plt.show()"
   ]
  },
  {
   "cell_type": "code",
   "execution_count": null,
   "metadata": {},
   "outputs": [],
   "source": [
    "paths = glob.glob(val_dir_male +'/*')\n",
    "l = len(glob.glob(val_dir_female +'/*'))\n",
    "for i in range(0,10):\n",
    "    test_image = image.load_img(paths[i], target_size = (64, 64))\n",
    "    plt.imshow(test_image)\n",
    "    if predicted_class_indices[0][l+i] == 0:\n",
    "        pred_label = 'female'\n",
    "    else:\n",
    "        pred_label = 'male'\n",
    "    \n",
    "    print('True Label male - Perdict Label : {}'.format(pred_label))\n",
    "    labels = (training_data.class_indices)\n",
    "    print (labels)\n",
    "    plt.show()"
   ]
  }
 ],
 "metadata": {
  "kernelspec": {
   "display_name": "Python 3",
   "language": "python",
   "name": "python3"
  },
  "language_info": {
   "codemirror_mode": {
    "name": "ipython",
    "version": 3
   },
   "file_extension": ".py",
   "mimetype": "text/x-python",
   "name": "python",
   "nbconvert_exporter": "python",
   "pygments_lexer": "ipython3",
   "version": "3.8.5"
  }
 },
 "nbformat": 4,
 "nbformat_minor": 4
}
